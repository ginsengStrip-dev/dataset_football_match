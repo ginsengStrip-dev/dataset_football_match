{
 "cells": [
  {
   "cell_type": "code",
   "execution_count": 10,
   "id": "1a32bf37",
   "metadata": {},
   "outputs": [
    {
     "name": "stdout",
     "output_type": "stream",
     "text": [
      "Combined 2 CSV files into 'combined_file.csv'.\n"
     ]
    }
   ],
   "source": [
    "import pandas as pd\n",
    "import os\n",
    "import glob\n",
    "\n",
    "# Folder where your CSV files are stored\n",
    "csv_folder = \"./\"  # change this to your folder path\n",
    "\n",
    "# Pattern to match all CSV files\n",
    "csv_files = glob.glob(os.path.join(csv_folder, \"*.csv\"))\n",
    "\n",
    "# List to hold DataFrames\n",
    "df_list = []\n",
    "\n",
    "# Read each CSV and append to the list\n",
    "for file in csv_files:\n",
    "    try:\n",
    "        df = pd.read_csv(file, encoding='utf-8')  # first try UTF-8\n",
    "    except UnicodeDecodeError:\n",
    "        df = pd.read_csv(file, encoding='ISO-8859-1')  # fallback encoding\n",
    "    df_list.append(df)\n",
    "\n",
    "# Concatenate all DataFrames\n",
    "combined_df = pd.concat(df_list, ignore_index=True)\n",
    "\n",
    "# Save to a new CSV\n",
    "combined_df.to_csv(\"main.csv\", index=False, encoding='utf-8')\n",
    "\n",
    "print(f\"Combined {len(csv_files)} CSV files into 'combined_file.csv'.\")\n"
   ]
  },
  {
   "cell_type": "code",
   "execution_count": null,
   "id": "1967978c",
   "metadata": {},
   "outputs": [
    {
     "name": "stdout",
     "output_type": "stream",
     "text": [
      "Updated file saved as Copa America.csv\n"
     ]
    }
   ],
   "source": [
    "import pandas as pd\n",
    "\n",
    "# Load CSV\n",
    "df = pd.read_csv(\"A.csv\")\n",
    "\n",
    "# Replace all values in 'tournament' column with \"Euro\"\n",
    "df[\"tournament\"] = \"AFC\"\n",
    "# df['match_stage'] =\"Group\"\n",
    "\n",
    "# Save updated CSV\n",
    "df.to_csv(\"AFC.csv\", index=False)\n",
    "\n",
    "print(\"Updated file saved as Copa America.csv\")\n"
   ]
  },
  {
   "cell_type": "code",
   "execution_count": 3,
   "id": "d0c9f14d",
   "metadata": {},
   "outputs": [
    {
     "name": "stdout",
     "output_type": "stream",
     "text": [
      "Processed CSV saved as 'processed_matches1.csv'.\n"
     ]
    }
   ],
   "source": [
    "import pandas as pd\n",
    "\n",
    "# Load the CSV\n",
    "df = pd.read_csv(\"AFC.csv\")\n",
    "\n",
    "# Function to determine match result\n",
    "# def determine_result(row):\n",
    "#     if row['home_score'] > row['away_score']:\n",
    "#         return 'Home'\n",
    "#     elif row['home_score'] < row['away_score']:\n",
    "#         return 'Away'\n",
    "#     else:\n",
    "#         return 'Draw'\n",
    "\n",
    "# # Apply the result function\n",
    "# df['result'] = df.apply(determine_result, axis=1)\n",
    "\n",
    "# # Ensure extra_time column exists (default False)\n",
    "# if 'extra_time' not in df.columns:\n",
    "#     df['extra_time'] = False\n",
    "\n",
    "# Update extra_time: True for rows with penalties\n",
    "# df.loc[df['penalties'] == True, 'extra_time'] = True\n",
    "\n",
    "# Identify Group Stage vs Knockout Stage\n",
    "group_stage = df[df['match_stage'].str.lower().str.startswith(\"group\")].copy()\n",
    "knockout_stage = df[~df['match_stage'].str.lower().str.startswith(\"group\")].copy()\n",
    "\n",
    "# Standardize match_stage column\n",
    "group_stage['match_stage'] = \"Group\"\n",
    "knockout_stage['match_stage'] = \"Knockout\"\n",
    "\n",
    "# Combine into one DataFrame\n",
    "processed_df = pd.concat([group_stage, knockout_stage], ignore_index=True)\n",
    "\n",
    "# Save to CSV\n",
    "processed_df.to_csv(\"AFC.csv\", index=False)\n",
    "\n",
    "print(\"Processed CSV saved as 'processed_matches1.csv'.\")\n"
   ]
  },
  {
   "cell_type": "code",
   "execution_count": null,
   "id": "96dd0d78",
   "metadata": {},
   "outputs": [
    {
     "name": "stdout",
     "output_type": "stream",
     "text": [
      "Processed CSV saved as 'processed_matches.csv'.\n"
     ]
    },
    {
     "name": "stderr",
     "output_type": "stream",
     "text": [
      "C:\\Windows\\Temp\\ipykernel_6304\\4050535579.py:26: SettingWithCopyWarning: \n",
      "A value is trying to be set on a copy of a slice from a DataFrame.\n",
      "Try using .loc[row_indexer,col_indexer] = value instead\n",
      "\n",
      "See the caveats in the documentation: https://pandas.pydata.org/pandas-docs/stable/user_guide/indexing.html#returning-a-view-versus-a-copy\n",
      "  group_stage['match_stage'] = \"Group\"\n",
      "C:\\Windows\\Temp\\ipykernel_6304\\4050535579.py:27: SettingWithCopyWarning: \n",
      "A value is trying to be set on a copy of a slice from a DataFrame.\n",
      "Try using .loc[row_indexer,col_indexer] = value instead\n",
      "\n",
      "See the caveats in the documentation: https://pandas.pydata.org/pandas-docs/stable/user_guide/indexing.html#returning-a-view-versus-a-copy\n",
      "  knockout_stage['match_stage'] = \"Knockout\"\n"
     ]
    }
   ],
   "source": [
    "# import pandas as pd\n",
    "\n",
    "# # Load the CSV\n",
    "# df = pd.read_csv(\"combined_file.csv\")\n",
    "\n",
    "# # Function to determine match result\n",
    "# def determine_result(row):\n",
    "#     if row['home_score'] > row['away_score']:\n",
    "#         return 'Home'\n",
    "#     elif row['home_score'] < row['away_score']:\n",
    "#         return 'Away'\n",
    "#     else:\n",
    "#         return 'Draw'\n",
    "\n",
    "# # Apply the result function\n",
    "# df['result'] = df.apply(determine_result, axis=1)\n",
    "\n",
    "# # Create extra_time column based on penalties\n",
    "# df['extra_time'] = df['penalties'] == True\n",
    "\n",
    "# # Identify Group Stage vs Knockout Stage\n",
    "# group_stage = df[df['match_stage'].str.lower().str.startswith(\"group\")]\n",
    "# knockout_stage = df[~df['match_stage'].str.lower().str.startswith(\"group\")]\n",
    "\n",
    "# # Standardize match_stage column\n",
    "# group_stage['match_stage'] = \"Group\"\n",
    "# knockout_stage['match_stage'] = \"Knockout\"\n",
    "\n",
    "# # Combine into one CSV\n",
    "# processed_df = pd.concat([group_stage, knockout_stage], ignore_index=True)\n",
    "\n",
    "# # Save to CSV\n",
    "# processed_df.to_csv(\"processed_matches1.csv\", index=False)\n",
    "\n",
    "# print(\"Processed CSV saved as 'processed_matches.csv'.\")\n"
   ]
  },
  {
   "cell_type": "code",
   "execution_count": null,
   "id": "1cf7da18",
   "metadata": {},
   "outputs": [
    {
     "name": "stdout",
     "output_type": "stream",
     "text": [
      "     home_team  away_team\n",
      "0     Colombia  Venezuela\n",
      "1        Chile    Ecuador\n",
      "2     Colombia      Chile\n",
      "3    Venezuela    Ecuador\n",
      "4     Colombia    Ecuador\n",
      "..         ...        ...\n",
      "220        Usa  Argentina\n",
      "225  Venezuela  Argentina\n",
      "241  Venezuela     Canada\n",
      "243   Colombia     Panama\n",
      "246    Uruguay     Canada\n",
      "\n",
      "[127 rows x 2 columns]\n"
     ]
    }
   ],
   "source": [
    "# import pandas as pd\n",
    "\n",
    "# # Load CSV\n",
    "# df = pd.read_csv(\"main_Data/processed_matches1.csv\")\n",
    "\n",
    "# # Normalize strings like in your script\n",
    "# df['home_team'] = df['home_team'].str.strip().str.title()\n",
    "# df['away_team'] = df['away_team'].str.strip().str.title()\n",
    "\n",
    "# # Select only home_team and away_team\n",
    "# teams_df = df[['home_team', 'away_team']].drop_duplicates()\n",
    "\n",
    "# print(teams_df)\n"
   ]
  },
  {
   "cell_type": "code",
   "execution_count": null,
   "id": "6dbfe845",
   "metadata": {},
   "outputs": [
    {
     "name": "stdout",
     "output_type": "stream",
     "text": [
      "['Argentina', 'Bolivia', 'Brazil', 'Canada', 'Chile', 'Colombia', 'Costa Rica', 'Ecuador', 'Haiti', 'Honduras', 'Jamaica', 'Japan', 'Mexico', 'Panama', 'Paraguay', 'Peru', 'Qatar', 'United States', 'Uruguay', 'Usa', 'Venezuela']\n"
     ]
    }
   ],
   "source": [
    "# unique_teams = sorted(pd.unique(df[['home_team', 'away_team']].values.ravel()))\n",
    "# print(unique_teams)"
   ]
  },
  {
   "cell_type": "code",
   "execution_count": 1,
   "id": "02807e02",
   "metadata": {},
   "outputs": [],
   "source": [
    "import pandas as pd\n",
    "import os\n",
    "import glob\n",
    "\n",
    "# Folder where your CSV files are stored\n",
    "df = pd.read_csv(\"main.csv\")"
   ]
  },
  {
   "cell_type": "code",
   "execution_count": 2,
   "id": "9846da35",
   "metadata": {},
   "outputs": [
    {
     "name": "stdout",
     "output_type": "stream",
     "text": [
      "['Australia', 'Bahrain', 'China', 'India', 'Indonesia', 'Iran', 'Iraq', 'Japan', 'Jordan', 'Kuwait', 'Kyrgyzstan', 'Lebanon', 'Malaysia', 'North Korea', 'Oman', 'Palestine', 'Philippines', 'Qatar', 'Saudi Arabia', 'South Korea', 'Syria', 'Tajikistan', 'Thailand', 'Turkmenistan', 'United Arab Emirates', 'Uzbekistan', 'Vietnam', 'Yemen']\n"
     ]
    }
   ],
   "source": [
    "copa_america_df = df[df['tournament'] == 'AFC']\n",
    "\n",
    "# Now find the unique teams from this filtered DataFrame\n",
    "unique_teams_copa_america = sorted(pd.unique(copa_america_df[['home_team', 'away_team']].values.ravel()))\n",
    "\n",
    "print(unique_teams_copa_america)\n"
   ]
  },
  {
   "cell_type": "code",
   "execution_count": 3,
   "id": "e9603af3",
   "metadata": {},
   "outputs": [
    {
     "data": {
      "text/plain": [
       "28"
      ]
     },
     "execution_count": 3,
     "metadata": {},
     "output_type": "execute_result"
    }
   ],
   "source": [
    "len(unique_teams_copa_america)"
   ]
  },
  {
   "cell_type": "code",
   "execution_count": 8,
   "id": "1b044de6",
   "metadata": {},
   "outputs": [
    {
     "name": "stdout",
     "output_type": "stream",
     "text": [
      "0                 Vietnam\n",
      "1                   Qatar\n",
      "2                 Vietnam\n",
      "3    United Arab Emirates\n",
      "4                 Vietnam\n",
      "Name: home_team, dtype: object\n",
      "0    United Arab Emirates\n",
      "1                    Iran\n",
      "2                   Qatar\n",
      "3                    Iran\n",
      "4                    Iran\n",
      "Name: away_team, dtype: object\n",
      "✅ Standardized duplicate team names in home_team and away_team columns.\n"
     ]
    }
   ],
   "source": [
    "import pandas as pd\n",
    "\n",
    "# Load your CSV file\n",
    "df = pd.read_csv(\"main.csv\")\n",
    "\n",
    "# Dictionary of replacements\n",
    "replacements = {\n",
    "    \"USA\": \"United States\",\n",
    "    \"Korea Republic\": \"South Korea\",\n",
    "    \"Ivory Coast\": \"Côte d’Ivoire\",\n",
    "    \"Serbia and Montenegro\": \"Serbia\",\n",
    "    \"Yugoslavia\": \"Serbia\",\n",
    "    \"UAE\": \"United Arab Emirates\"\n",
    "        # mapping historical Yugoslavia → Serbia (most common approach)\n",
    "}\n",
    "\n",
    "# Apply replacements to both home_team and away_team\n",
    "df['home_team'] = df['home_team'].replace(replacements)\n",
    "df['away_team'] = df['away_team'].replace(replacements)\n",
    "\n",
    "# Preview updated data\n",
    "print(df['home_team'].head())\n",
    "print(df['away_team'].head())\n",
    "\n",
    "# Save the updated CSV\n",
    "df.to_csv(\"main.csv\", index=False)\n",
    "\n",
    "print(\"✅ Standardized duplicate team names in home_team and away_team columns.\")\n"
   ]
  },
  {
   "cell_type": "code",
   "execution_count": null,
   "id": "ccca137e",
   "metadata": {},
   "outputs": [
    {
     "name": "stdout",
     "output_type": "stream",
     "text": [
      "0                   Vietnam\n",
      "1                     Qatar\n",
      "2                   Vietnam\n",
      "3      United Arab Emirates\n",
      "4                   Vietnam\n",
      "               ...         \n",
      "190                Thailand\n",
      "191               Indonesia\n",
      "192                   Qatar\n",
      "193                Thailand\n",
      "194                   Qatar\n",
      "Name: home_team, Length: 195, dtype: object\n",
      "0                   Vietnam\n",
      "1                     Qatar\n",
      "2                   Vietnam\n",
      "3      United Arab Emirates\n",
      "4                   Vietnam\n",
      "               ...         \n",
      "190                Thailand\n",
      "191               Indonesia\n",
      "192                   Qatar\n",
      "193                Thailand\n",
      "194                   Qatar\n",
      "Name: home_team, Length: 195, dtype: object\n",
      "✅ Replaced 'USA' with 'United States' in home_team and away_team columns.\n"
     ]
    }
   ],
   "source": [
    "# import pandas as pd\n",
    "\n",
    "# # Example: load your CSV\n",
    "# df = pd.read_csv(\"AFC.csv\")\n",
    "\n",
    "# # Replace 'USA' with 'United States' in both columns\n",
    "# df['home_team'] = df['home_team'].replace('China PR', 'China')\n",
    "# df['away_team'] = df['away_team'].replace('China PR', 'China')\n",
    "\n",
    "# print(df['home_team'])\n",
    "# print(df['home_team'])\n",
    "\n",
    "# # Save the updated CSV (optional)\n",
    "# df.to_csv(\"AFC.csv\", index=False)\n",
    "\n",
    "# print(\"✅ Replaced 'USA' with 'United States' in home_team and away_team columns.\")\n"
   ]
  },
  {
   "cell_type": "code",
   "execution_count": null,
   "id": "8a19c222",
   "metadata": {},
   "outputs": [],
   "source": []
  }
 ],
 "metadata": {
  "kernelspec": {
   "display_name": "Python 3",
   "language": "python",
   "name": "python3"
  },
  "language_info": {
   "codemirror_mode": {
    "name": "ipython",
    "version": 3
   },
   "file_extension": ".py",
   "mimetype": "text/x-python",
   "name": "python",
   "nbconvert_exporter": "python",
   "pygments_lexer": "ipython3",
   "version": "3.10.0"
  }
 },
 "nbformat": 4,
 "nbformat_minor": 5
}
