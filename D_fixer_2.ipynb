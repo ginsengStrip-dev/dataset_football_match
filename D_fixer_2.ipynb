{
 "cells": [
  {
   "cell_type": "code",
   "execution_count": 1,
   "id": "22751473",
   "metadata": {},
   "outputs": [],
   "source": [
    "import pandas as pd\n",
    "\n",
    "# Load CSV\n",
    "df = pd.read_csv(\"c.csv\")\n",
    "\n",
    "# Columns to update\n",
    "columns_to_fill = [\n",
    "    'extra_time_home_score',\n",
    "    'extra_time_away_score',\n",
    "    'penalties_home_score',\n",
    "    'penalties_away_score'\n",
    "]\n",
    "\n",
    "# Replace empty strings or NaN with 0\n",
    "df[columns_to_fill] = df[columns_to_fill].replace(['', '_'], 0)  # handle '_' as missing\n",
    "df[columns_to_fill] = df[columns_to_fill].fillna(0)\n",
    "df[columns_to_fill] = df[columns_to_fill].astype(int)  # handle NaN\n",
    "\n",
    "# Save back\n",
    "df.to_csv(\"c.csv\", index=False)\n"
   ]
  },
  {
   "cell_type": "code",
   "execution_count": 2,
   "id": "113d5903",
   "metadata": {},
   "outputs": [],
   "source": [
    "import pandas as pd\n",
    "\n",
    "# Load CSV\n",
    "df = pd.read_csv(\"c.csv\")\n",
    "\n",
    "# Fill numeric score columns with 0 where missing or blank\n",
    "\n",
    "\n",
    "# Score columns\n",
    "score_columns = [\n",
    "    'extra_time_home_score',\n",
    "    'extra_time_away_score',\n",
    "    'penalties_home_score',\n",
    "    'penalties_away_score'\n",
    "]\n",
    "\n",
    "# Fill missing or blank values with 0 and convert to int\n",
    "for col in score_columns:\n",
    "    df[col] = df[col].replace(['', '_'], 0).fillna(0).astype(int)\n",
    "\n",
    "# Extra time True if extra_time scores > 0 OR penalties occurred\n",
    "df['extra_time'] = df[['extra_time_home_score', 'extra_time_away_score', \n",
    "                       'penalties_home_score', 'penalties_away_score']].gt(0).any(axis=1)\n",
    "\n",
    "# Penalties True if penalties scores > 0\n",
    "df['penalties'] = df[['penalties_home_score', 'penalties_away_score']].gt(0).any(axis=1)\n",
    "\n",
    "# Save CSV\n",
    "df.to_csv(\"c.csv\", index=False)\n"
   ]
  },
  {
   "cell_type": "code",
   "execution_count": null,
   "id": "7be75ced",
   "metadata": {},
   "outputs": [],
   "source": []
  }
 ],
 "metadata": {
  "kernelspec": {
   "display_name": "Python 3",
   "language": "python",
   "name": "python3"
  },
  "language_info": {
   "codemirror_mode": {
    "name": "ipython",
    "version": 3
   },
   "file_extension": ".py",
   "mimetype": "text/x-python",
   "name": "python",
   "nbconvert_exporter": "python",
   "pygments_lexer": "ipython3",
   "version": "3.10.0"
  }
 },
 "nbformat": 4,
 "nbformat_minor": 5
}
